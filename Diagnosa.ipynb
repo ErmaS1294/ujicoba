{
 "cells": [
  {
   "cell_type": "code",
   "execution_count": 9,
   "metadata": {},
   "outputs": [],
   "source": [
    "# Forward Chaining Implementation for Diagnosing Personality Types\n",
    "\n",
    "class ForwardChaining:\n",
    "    def __init__(self, rules, descriptions):\n",
    "        self.rules = rules\n",
    "        self.descriptions = descriptions\n",
    "        self.facts = set()\n",
    "\n",
    "    def add_fact(self, fact):\n",
    "        \"\"\"Add a new fact to the fact base.\"\"\"\n",
    "        self.facts.add(fact)\n",
    "\n",
    "    def infer(self):\n",
    "        \"\"\"Perform forward chaining inference to find applicable diagnoses.\"\"\"\n",
    "        conclusions = []\n",
    "        total_matched = 0  # Total matched conditions to calculate normalized percentages\n",
    "\n",
    "        # Calculate matched conditions for each rule\n",
    "        for rule in self.rules:\n",
    "            conditions, conclusion = rule[\"conditions\"], rule[\"conclusion\"]\n",
    "            matched_conditions = [condition for condition in conditions if condition in self.facts]\n",
    "            total_matched += len(matched_conditions)\n",
    "            conclusions.append({\n",
    "                \"diagnosis\": conclusion,\n",
    "                \"matched\": len(matched_conditions),\n",
    "                \"total\": len(conditions),\n",
    "                \"raw_percentage\": len(matched_conditions)  # Raw count for further processing\n",
    "            })\n",
    "\n",
    "        # Normalize percentages so the total is 100%\n",
    "        if total_matched > 0:\n",
    "            for conclusion in conclusions:\n",
    "                conclusion[\"percentage\"] = round((conclusion[\"raw_percentage\"] / total_matched) * 100, 2)\n",
    "        else:\n",
    "            for conclusion in conclusions:\n",
    "                conclusion[\"percentage\"] = 0.0\n",
    "\n",
    "        return conclusions"
   ]
  },
  {
   "cell_type": "code",
   "execution_count": 10,
   "metadata": {},
   "outputs": [],
   "source": [
    "# Hardcoded rules from the dataset\n",
    "rules = [\n",
    "    {\"conditions\": [\"CKP01\", \"CKP02\", \"CKP03\", \"CKP04\", \"CKP05\", \"CKP06\", \"CKP07\", \"CKP08\"], \"conclusion\": \"Sanguinis\"},\n",
    "    {\"conditions\": [\"CKP09\", \"CKP10\", \"CKP11\", \"CKP12\", \"CKP13\", \"CKP14\", \"CKP15\", \"CKP16\"], \"conclusion\": \"Melankolis\"},\n",
    "    {\"conditions\": [\"CKP17\", \"CKP18\", \"CKP19\", \"CKP20\", \"CKP21\", \"CKP22\", \"CKP23\", \"CKP24\"], \"conclusion\": \"Koleris\"},\n",
    "    {\"conditions\": [\"CKP25\", \"CKP26\", \"CKP27\", \"CKP28\", \"CKP29\", \"CKP30\", \"CKP31\", \"CKP32\"], \"conclusion\": \"Plegmatis\"}\n",
    "]\n",
    "\n",
    "# Descriptions for CKP codes\n",
    "descriptions = {\n",
    "    \"CKP01\": \"Senang berbicara dan bercerita\",\n",
    "    \"CKP02\": \"Mudah bergaul dan ceria\",\n",
    "    \"CKP03\": \"Bersemangat dan aktif\",\n",
    "    \"CKP04\": \"Penuh energi dan antusias\",\n",
    "    \"CKP05\": \"Cenderung berpikir kritis dan analitis\",\n",
    "    \"CKP06\": \"Perfeksionis dan teliti\",\n",
    "    \"CKP07\": \"Sensitif dan mudah merasa sedih\",\n",
    "    \"CKP08\": \"Menyukai ketertiban dan perencanaan\",\n",
    "    \"CKP09\": \"Tegas dan percaya diri\",\n",
    "    \"CKP10\": \"Berjiwa pemimpin dan ambisius\",\n",
    "    \"CKP11\": \"Keras kepala dan berkemauan kuat\",\n",
    "    \"CKP12\": \"Berorientasi pada tujuan\",\n",
    "    \"CKP13\": \"Cenderung pendiam dan tenang\",\n",
    "    \"CKP14\": \"Penyabar dan mudah memaafkan\",\n",
    "    \"CKP15\": \"Tidak mudah marah dan santai\",\n",
    "    \"CKP16\": \"Cenderung menghindari konflik\",\n",
    "    \"CKP17\": \"Suka mengatur\",\n",
    "    \"CKP18\": \"Suka memerintah\",\n",
    "    \"CKP19\": \"Tidak punya banyak teman\",\n",
    "    \"CKP20\": \"Tidak mau kalah\",\n",
    "    \"CKP21\": \"Senang dengan tantangan\",\n",
    "    \"CKP22\": \"Suka petualangan\",\n",
    "    \"CKP23\": \"Tegas, kuat, cepat, dan tangkas\",\n",
    "    \"CKP24\": \"Tidak ada istilah tidak mungkin\",\n",
    "    \"CKP25\": \"Mau merugi agar masalah tidak berkepanjangan\",\n",
    "    \"CKP26\": \"Kurang bersemangat\",\n",
    "    \"CKP27\": \"Kurang teratur dan serba dingin\",\n",
    "    \"CKP28\": \"Cenderung diam\",\n",
    "    \"CKP29\": \"Kalem\",\n",
    "    \"CKP30\": \"Pendengar yang baik\",\n",
    "    \"CKP31\": \"Suka menunda dalam mengambil keputusan\",\n",
    "    \"CKP32\": \"Sangat memerlukan perubahan\",\n",
    "}"
   ]
  },
  {
   "cell_type": "code",
   "execution_count": 12,
   "metadata": {},
   "outputs": [
    {
     "name": "stdout",
     "output_type": "stream",
     "text": [
      "Checklist kode gejala berikut dengan mengetik 'ya' atau 'tidak'.\n",
      "\n",
      "Hasil Diagnosa:\n",
      "Sanguinis: Gejala Terdeteksi 7 dari total 8 gejala. Persentase: 26.92%\n",
      "Melankolis: Gejala Terdeteksi 7 dari total 8 gejala. Persentase: 26.92%\n",
      "Koleris: Gejala Terdeteksi 7 dari total 8 gejala. Persentase: 26.92%\n",
      "Plegmatis: Gejala Terdeteksi 5 dari total 8 gejala. Persentase: 19.23%\n",
      "\n",
      "Ciri-ciri dengan Presentasi Tertinggi adalah Sanguinis dengan persentasi 26.92%\n",
      "\n"
     ]
    }
   ],
   "source": [
    "# Initialize Forward Chaining Engine\n",
    "engine = ForwardChaining(rules, descriptions)\n",
    "\n",
    "# Input known facts from the user\n",
    "def input_facts():\n",
    "    print(\"Checklist kode gejala berikut dengan mengetik 'ya' atau 'tidak'.\")\n",
    "    user_facts = []\n",
    "    for code, description in descriptions.items():\n",
    "        response = input(f\"Apakah Anda mengalami gejala berikut? ({code} - {description}) [ya/tidak]: \").strip().lower()\n",
    "        if response == 'ya':\n",
    "            user_facts.append(code)\n",
    "    return user_facts\n",
    "\n",
    "# Add user facts to the engine\n",
    "user_facts = input_facts()\n",
    "for fact in user_facts:\n",
    "    engine.add_fact(fact)\n",
    "\n",
    "# Perform inference\n",
    "def diagnose():\n",
    "    diagnoses = engine.infer()\n",
    "    print(\"\\nHasil Diagnosa:\")\n",
    "    for diagnosis in diagnoses:\n",
    "        print(f\"{diagnosis['diagnosis']}: Gejala Terdeteksi {diagnosis['matched']} dari total {diagnosis['total']} gejala. Persentase: {diagnosis['percentage']}%\")\n",
    "\n",
    "    # Find the highest percentage\n",
    "    highest = max(diagnoses, key=lambda d: d['percentage'])\n",
    "    print(f\"\\nCiri-ciri dengan Presentasi Tertinggi adalah {highest['diagnosis']} dengan persentasi {highest['percentage']}%\\n\")\n",
    "\n",
    "# Run diagnosis\n",
    "diagnose()"
   ]
  },
  {
   "cell_type": "markdown",
   "metadata": {},
   "source": [
    "Save Model"
   ]
  },
  {
   "cell_type": "code",
   "execution_count": 13,
   "metadata": {},
   "outputs": [],
   "source": [
    "import pickle"
   ]
  },
  {
   "cell_type": "code",
   "execution_count": 15,
   "metadata": {},
   "outputs": [],
   "source": [
    "filename = 'Test_Kepribadian.sav'\n",
    "# Assuming you want to save the 'engine' object:\n",
    "pickle.dump(engine, open(filename, 'wb'))"
   ]
  }
 ],
 "metadata": {
  "kernelspec": {
   "display_name": "Python 3",
   "language": "python",
   "name": "python3"
  },
  "language_info": {
   "codemirror_mode": {
    "name": "ipython",
    "version": 3
   },
   "file_extension": ".py",
   "mimetype": "text/x-python",
   "name": "python",
   "nbconvert_exporter": "python",
   "pygments_lexer": "ipython3",
   "version": "3.13.1"
  }
 },
 "nbformat": 4,
 "nbformat_minor": 2
}
